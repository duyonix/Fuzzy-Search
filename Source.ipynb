{
  "cells": [
    {
      "cell_type": "markdown",
      "metadata": {
        "id": "PHtEOk-HqTTT"
      },
      "source": [
        "# Thông tin nhóm\n",
        "Thành viên:\n",
        "* Đặng Thái Duy - 19120491\n",
        "* Hà Chí Hào - 19120219\n",
        "* Mai Duy Nam - 19120298\n",
        "* Trần Phương Đình - 19120476"
      ]
    },
    {
      "cell_type": "markdown",
      "metadata": {
        "id": "Xzqyw2DhqQnV"
      },
      "source": [
        "# Import thư viện"
      ]
    },
    {
      "cell_type": "code",
      "execution_count": 1,
      "metadata": {
        "id": "Nda80V7yFYbR"
      },
      "outputs": [],
      "source": [
        "import matplotlib.pyplot as plt\n",
        "import numpy as np\n",
        "import pandas as pd\n",
        "import random\n",
        "import time"
      ]
    },
    {
      "cell_type": "markdown",
      "metadata": {
        "id": "HoWHTEzN1E2w"
      },
      "source": [
        "# Cài đặt thuật toán"
      ]
    },
    {
      "cell_type": "markdown",
      "metadata": {
        "id": "csymGFKCJqcm"
      },
      "source": [
        "## Không sử dụng vectorization"
      ]
    },
    {
      "cell_type": "code",
      "execution_count": 2,
      "metadata": {
        "id": "Ng4pt7bNIqnb"
      },
      "outputs": [],
      "source": [
        "def levenshtein_distance(a: str, b: str) -> int:\n",
        "    m, n = len(a), len(b)\n",
        "    d = np.zeros((m+1, n+1), dtype=int)\n",
        "\n",
        "    for i in range(m+1):\n",
        "      d[i, 0] = i\n",
        "    for i in range(n+1):\n",
        "      d[0, i] = i\n",
        "    \n",
        "    for j in range(1, n+1):\n",
        "        for i in range(1, m+1):\n",
        "            cost = 1 if a[i-1] != b[j-1] else 0\n",
        "            d[i, j] = min(d[i-1, j-1] + cost,   # substitute\n",
        "                          d[i, j-1]   + 1,      # insert\n",
        "                          d[i-1, j]   + 1)      # delete\n",
        "    return d[m, n]"
      ]
    },
    {
      "cell_type": "markdown",
      "metadata": {
        "id": "uEOrEAFSJuY_"
      },
      "source": [
        "## Có sử dụng vectorization"
      ]
    },
    {
      "cell_type": "markdown",
      "metadata": {
        "id": "yDa0Ejy8O8Qn"
      },
      "source": [
        "Thay vì tìm khoảng cách Levenshtein từ một chuỗi a (độ dài $m$) đến một chuỗi b (độ dài $n$), hàm dưới đây tìm khoảng cách Levenshtein từ chuỗi a đến $k$ chuỗi có cùng độ dài là $n$ như vậy. Nghĩa là, ta tìm $k$ khoảng cách Levenshtein từ a đến $k$ chuỗi có cùng độ dài $n$.\n",
        "\n",
        "Ta gom $k$ chuỗi có độ dài $n$ đó thành một ma trận kích thước $n \\times k$ và tận dụng kỹ thuật broadcast của NumPy để tính nhiều khoảng cách Levenshtein cùng lúc."
      ]
    },
    {
      "cell_type": "code",
      "execution_count": 3,
      "metadata": {
        "id": "84vXdbgYI-Bw"
      },
      "outputs": [],
      "source": [
        "def levenshtein_distance_vec(a: np.array, b: np.array):\n",
        "    m, n, k = len(a), len(b), b.shape[1]\n",
        "    d = np.zeros((m+1, n+1, k), dtype=np.uint16)\n",
        "\n",
        "    for i in range(m+1):\n",
        "        d[i, 0] = i\n",
        "    for i in range(n+1):\n",
        "        d[0, i] = i\n",
        "    \n",
        "    for j in range(1, n+1):\n",
        "        for i in range(1, m+1):\n",
        "            cost = a[i-1] != b[j-1]\n",
        "            d[i, j] = np.min([d[i-1, j-1] + cost,\n",
        "                              d[i, j-1]   + 1,\n",
        "                              d[i-1, j]   + 1], axis=0)\n",
        "\n",
        "    return d[m, n]"
      ]
    },
    {
      "cell_type": "markdown",
      "metadata": {
        "id": "2jZJ1xE1HLjZ"
      },
      "source": [
        "# Đo thời gian chạy"
      ]
    },
    {
      "cell_type": "markdown",
      "metadata": {
        "id": "NKiDp09zHNsW"
      },
      "source": [
        "## Chạy trên một cặp chuỗi"
      ]
    },
    {
      "cell_type": "code",
      "execution_count": 4,
      "metadata": {
        "colab": {
          "base_uri": "https://localhost:8080/"
        },
        "id": "SDhsX_QlHUMV",
        "outputId": "52a1f83b-23ef-440c-9ce6-99b38166d195"
      },
      "outputs": [
        {
          "name": "stdout",
          "output_type": "stream",
          "text": [
            "Testing Levenshtein distance\n",
            "Wall time: 0 ns\n",
            "Distance: 2\n"
          ]
        }
      ],
      "source": [
        "query_text =  'ho chiminj'\n",
        "target_text = 'ho chi minh'\n",
        "\n",
        "print('Testing Levenshtein distance')\n",
        "%time levenshtein_distance_result = levenshtein_distance(query_text, target_text)\n",
        "print(f'Distance: {levenshtein_distance_result}')"
      ]
    },
    {
      "cell_type": "markdown",
      "metadata": {
        "id": "Gp-OEsTMIlWn"
      },
      "source": [
        "## Chạy trên tập dữ liệu có nhiều chuỗi"
      ]
    },
    {
      "cell_type": "markdown",
      "metadata": {
        "id": "XX97jvf2OTlM"
      },
      "source": [
        "### Tải dữ liệu"
      ]
    },
    {
      "cell_type": "code",
      "execution_count": 39,
      "metadata": {
        "colab": {
          "base_uri": "https://localhost:8080/"
        },
        "id": "Z0rB_EpaCSQa",
        "outputId": "8bdb12dc-fc90-4ce7-b15a-8371b7d735df"
      },
      "outputs": [
        {
          "data": {
            "text/html": [
              "<div>\n",
              "<style scoped>\n",
              "    .dataframe tbody tr th:only-of-type {\n",
              "        vertical-align: middle;\n",
              "    }\n",
              "\n",
              "    .dataframe tbody tr th {\n",
              "        vertical-align: top;\n",
              "    }\n",
              "\n",
              "    .dataframe thead th {\n",
              "        text-align: right;\n",
              "    }\n",
              "</style>\n",
              "<table border=\"1\" class=\"dataframe\">\n",
              "  <thead>\n",
              "    <tr style=\"text-align: right;\">\n",
              "      <th></th>\n",
              "      <th>city</th>\n",
              "      <th>city_ascii</th>\n",
              "      <th>lat</th>\n",
              "      <th>lng</th>\n",
              "      <th>country</th>\n",
              "      <th>iso2</th>\n",
              "      <th>iso3</th>\n",
              "      <th>admin_name</th>\n",
              "      <th>capital</th>\n",
              "      <th>population</th>\n",
              "      <th>id</th>\n",
              "    </tr>\n",
              "  </thead>\n",
              "  <tbody>\n",
              "    <tr>\n",
              "      <th>0</th>\n",
              "      <td>Tokyo</td>\n",
              "      <td>Tokyo</td>\n",
              "      <td>35.6839</td>\n",
              "      <td>139.7744</td>\n",
              "      <td>Japan</td>\n",
              "      <td>JP</td>\n",
              "      <td>JPN</td>\n",
              "      <td>Tōkyō</td>\n",
              "      <td>primary</td>\n",
              "      <td>39105000.0</td>\n",
              "      <td>1392685764</td>\n",
              "    </tr>\n",
              "    <tr>\n",
              "      <th>1</th>\n",
              "      <td>Jakarta</td>\n",
              "      <td>Jakarta</td>\n",
              "      <td>-6.2146</td>\n",
              "      <td>106.8451</td>\n",
              "      <td>Indonesia</td>\n",
              "      <td>ID</td>\n",
              "      <td>IDN</td>\n",
              "      <td>Jakarta</td>\n",
              "      <td>primary</td>\n",
              "      <td>35362000.0</td>\n",
              "      <td>1360771077</td>\n",
              "    </tr>\n",
              "    <tr>\n",
              "      <th>2</th>\n",
              "      <td>Delhi</td>\n",
              "      <td>Delhi</td>\n",
              "      <td>28.6667</td>\n",
              "      <td>77.2167</td>\n",
              "      <td>India</td>\n",
              "      <td>IN</td>\n",
              "      <td>IND</td>\n",
              "      <td>Delhi</td>\n",
              "      <td>admin</td>\n",
              "      <td>31870000.0</td>\n",
              "      <td>1356872604</td>\n",
              "    </tr>\n",
              "    <tr>\n",
              "      <th>3</th>\n",
              "      <td>Manila</td>\n",
              "      <td>Manila</td>\n",
              "      <td>14.6000</td>\n",
              "      <td>120.9833</td>\n",
              "      <td>Philippines</td>\n",
              "      <td>PH</td>\n",
              "      <td>PHL</td>\n",
              "      <td>Manila</td>\n",
              "      <td>primary</td>\n",
              "      <td>23971000.0</td>\n",
              "      <td>1608618140</td>\n",
              "    </tr>\n",
              "    <tr>\n",
              "      <th>4</th>\n",
              "      <td>São Paulo</td>\n",
              "      <td>Sao Paulo</td>\n",
              "      <td>-23.5504</td>\n",
              "      <td>-46.6339</td>\n",
              "      <td>Brazil</td>\n",
              "      <td>BR</td>\n",
              "      <td>BRA</td>\n",
              "      <td>São Paulo</td>\n",
              "      <td>admin</td>\n",
              "      <td>22495000.0</td>\n",
              "      <td>1076532519</td>\n",
              "    </tr>\n",
              "  </tbody>\n",
              "</table>\n",
              "</div>"
            ],
            "text/plain": [
              "        city city_ascii      lat       lng      country iso2 iso3 admin_name  \\\n",
              "0      Tokyo      Tokyo  35.6839  139.7744        Japan   JP  JPN      Tōkyō   \n",
              "1    Jakarta    Jakarta  -6.2146  106.8451    Indonesia   ID  IDN    Jakarta   \n",
              "2      Delhi      Delhi  28.6667   77.2167        India   IN  IND      Delhi   \n",
              "3     Manila     Manila  14.6000  120.9833  Philippines   PH  PHL     Manila   \n",
              "4  São Paulo  Sao Paulo -23.5504  -46.6339       Brazil   BR  BRA  São Paulo   \n",
              "\n",
              "   capital  population          id  \n",
              "0  primary  39105000.0  1392685764  \n",
              "1  primary  35362000.0  1360771077  \n",
              "2    admin  31870000.0  1356872604  \n",
              "3  primary  23971000.0  1608618140  \n",
              "4    admin  22495000.0  1076532519  "
            ]
          },
          "execution_count": 39,
          "metadata": {},
          "output_type": "execute_result"
        }
      ],
      "source": [
        "df = pd.read_csv(\"Data/data.csv\")\n",
        "df.head()"
      ]
    },
    {
      "cell_type": "code",
      "execution_count": 11,
      "metadata": {
        "colab": {
          "base_uri": "https://localhost:8080/"
        },
        "id": "snn2z4E6ITzq",
        "outputId": "c941c606-8554-41a8-d0f0-46a509aeb391"
      },
      "outputs": [
        {
          "name": "stdout",
          "output_type": "stream",
          "text": [
            "['tokyo' 'jakarta' 'delhi' ... 'nord' 'timmiarmiut' 'nordvik']\n",
            "39186\n"
          ]
        }
      ],
      "source": [
        "cities = df[\"city_ascii\"].apply(lambda x: x.lower()).unique()\n",
        "print(cities)\n",
        "print(cities.size)"
      ]
    },
    {
      "cell_type": "markdown",
      "metadata": {
        "id": "z_MwSHVsJgEB"
      },
      "source": [
        "### Levenshtein distance không sử dụng vectorization"
      ]
    },
    {
      "cell_type": "code",
      "execution_count": 15,
      "metadata": {
        "id": "yu3DBP9TJfki"
      },
      "outputs": [],
      "source": [
        "def levenshtein_find(query_text, texts):\n",
        "  best_score = -np.inf\n",
        "  best_result = ''\n",
        "\n",
        "  for text in texts:\n",
        "    if len(text) == 0:\n",
        "      continue\n",
        "    \n",
        "    text = text.lower()\n",
        "    d = levenshtein_distance(query_text, text)\n",
        "    score = 1.0 - d / max(len(query_text), len(text))\n",
        "    \n",
        "    if score > best_score:\n",
        "      best_score = score\n",
        "      best_result = text\n",
        "\n",
        "  return (best_score, best_result)"
      ]
    },
    {
      "cell_type": "code",
      "execution_count": 13,
      "metadata": {
        "colab": {
          "base_uri": "https://localhost:8080/"
        },
        "id": "Sz2hlvkCHPbR",
        "outputId": "9d8044c5-fb3d-47a8-efe4-09f8609a0f69"
      },
      "outputs": [
        {
          "name": "stdout",
          "output_type": "stream",
          "text": [
            "Wall time: 4.71 s\n"
          ]
        },
        {
          "data": {
            "text/plain": [
              "(0.5625, 'ho chi minh city')"
            ]
          },
          "execution_count": 13,
          "metadata": {},
          "output_type": "execute_result"
        }
      ],
      "source": [
        "%%time\n",
        "levenshtein_find('ho chiminj', cities)"
      ]
    },
    {
      "cell_type": "code",
      "execution_count": 14,
      "metadata": {
        "colab": {
          "base_uri": "https://localhost:8080/"
        },
        "id": "9x5u18h5HnYa",
        "outputId": "c1553e28-8b90-49eb-daf2-17e5e44d2089"
      },
      "outputs": [
        {
          "name": "stdout",
          "output_type": "stream",
          "text": [
            "Wall time: 2.46 s\n"
          ]
        },
        {
          "data": {
            "text/plain": [
              "(0.8, 'hanoi')"
            ]
          },
          "execution_count": 14,
          "metadata": {},
          "output_type": "execute_result"
        }
      ],
      "source": [
        "%%time\n",
        "levenshtein_find('hanpi', cities)"
      ]
    },
    {
      "cell_type": "markdown",
      "metadata": {
        "id": "GJBCrqGcaiU9"
      },
      "source": [
        "### Đo thời gian chạy với một số query khác nhau"
      ]
    },
    {
      "cell_type": "code",
      "execution_count": 16,
      "metadata": {
        "id": "2P0FRqP-XGUe"
      },
      "outputs": [],
      "source": [
        "keywords = ['ho chiminj', 'hanpi', 'danang', 'daklk']\n",
        "runs = 3\n",
        "results = []\n",
        "for keyword in keywords:\n",
        "    run_times = []\n",
        "    best_match = None\n",
        "    for _ in range(runs):\n",
        "        start = time.time()\n",
        "        best_match = levenshtein_find(keyword, cities)[1]\n",
        "        end = time.time()\n",
        "        run_times.append(end - start)\n",
        "\n",
        "    results.append([keyword] + run_times + [best_match])"
      ]
    },
    {
      "cell_type": "code",
      "execution_count": 17,
      "metadata": {
        "colab": {
          "base_uri": "https://localhost:8080/"
        },
        "id": "N3LLMrsHZyws",
        "outputId": "14b5316c-8fcc-43bc-e82a-a55c98056c17"
      },
      "outputs": [
        {
          "data": {
            "text/html": [
              "<div>\n",
              "<style scoped>\n",
              "    .dataframe tbody tr th:only-of-type {\n",
              "        vertical-align: middle;\n",
              "    }\n",
              "\n",
              "    .dataframe tbody tr th {\n",
              "        vertical-align: top;\n",
              "    }\n",
              "\n",
              "    .dataframe thead th {\n",
              "        text-align: right;\n",
              "    }\n",
              "</style>\n",
              "<table border=\"1\" class=\"dataframe\">\n",
              "  <thead>\n",
              "    <tr style=\"text-align: right;\">\n",
              "      <th></th>\n",
              "      <th>query</th>\n",
              "      <th>run_1</th>\n",
              "      <th>run_2</th>\n",
              "      <th>run_3</th>\n",
              "      <th>result</th>\n",
              "    </tr>\n",
              "  </thead>\n",
              "  <tbody>\n",
              "    <tr>\n",
              "      <th>0</th>\n",
              "      <td>ho chiminj</td>\n",
              "      <td>4.586443</td>\n",
              "      <td>4.598561</td>\n",
              "      <td>4.545436</td>\n",
              "      <td>ho chi minh city</td>\n",
              "    </tr>\n",
              "    <tr>\n",
              "      <th>1</th>\n",
              "      <td>hanpi</td>\n",
              "      <td>2.345913</td>\n",
              "      <td>2.370579</td>\n",
              "      <td>2.416398</td>\n",
              "      <td>hanoi</td>\n",
              "    </tr>\n",
              "    <tr>\n",
              "      <th>2</th>\n",
              "      <td>danang</td>\n",
              "      <td>2.800533</td>\n",
              "      <td>2.748364</td>\n",
              "      <td>2.813193</td>\n",
              "      <td>danyang</td>\n",
              "    </tr>\n",
              "    <tr>\n",
              "      <th>3</th>\n",
              "      <td>daklk</td>\n",
              "      <td>2.421452</td>\n",
              "      <td>2.393297</td>\n",
              "      <td>2.397267</td>\n",
              "      <td>dakar</td>\n",
              "    </tr>\n",
              "  </tbody>\n",
              "</table>\n",
              "</div>"
            ],
            "text/plain": [
              "        query     run_1     run_2     run_3            result\n",
              "0  ho chiminj  4.586443  4.598561  4.545436  ho chi minh city\n",
              "1       hanpi  2.345913  2.370579  2.416398             hanoi\n",
              "2      danang  2.800533  2.748364  2.813193           danyang\n",
              "3       daklk  2.421452  2.393297  2.397267             dakar"
            ]
          },
          "execution_count": 17,
          "metadata": {},
          "output_type": "execute_result"
        }
      ],
      "source": [
        "test_queries = pd.DataFrame(results)\n",
        "test_queries.columns = ['query', 'run_1', 'run_2', 'run_3', 'result']\n",
        "test_queries"
      ]
    },
    {
      "cell_type": "markdown",
      "metadata": {
        "id": "tpDX6AV7eNs-"
      },
      "source": [
        "8 kết quả tốt nhất khi search với query \"danang\"."
      ]
    },
    {
      "cell_type": "code",
      "execution_count": 18,
      "metadata": {
        "colab": {
          "base_uri": "https://localhost:8080/",
          "height": 300
        },
        "id": "GKJzlrWNdEYL",
        "outputId": "68299e93-028e-4a6c-bd88-7630247b0984"
      },
      "outputs": [
        {
          "data": {
            "text/html": [
              "<div>\n",
              "<style scoped>\n",
              "    .dataframe tbody tr th:only-of-type {\n",
              "        vertical-align: middle;\n",
              "    }\n",
              "\n",
              "    .dataframe tbody tr th {\n",
              "        vertical-align: top;\n",
              "    }\n",
              "\n",
              "    .dataframe thead th {\n",
              "        text-align: right;\n",
              "    }\n",
              "</style>\n",
              "<table border=\"1\" class=\"dataframe\">\n",
              "  <thead>\n",
              "    <tr style=\"text-align: right;\">\n",
              "      <th></th>\n",
              "      <th>score</th>\n",
              "      <th>city</th>\n",
              "    </tr>\n",
              "  </thead>\n",
              "  <tbody>\n",
              "    <tr>\n",
              "      <th>7965</th>\n",
              "      <td>0.857143</td>\n",
              "      <td>da nang</td>\n",
              "    </tr>\n",
              "    <tr>\n",
              "      <th>851</th>\n",
              "      <td>0.857143</td>\n",
              "      <td>danyang</td>\n",
              "    </tr>\n",
              "    <tr>\n",
              "      <th>1967</th>\n",
              "      <td>0.833333</td>\n",
              "      <td>datang</td>\n",
              "    </tr>\n",
              "    <tr>\n",
              "      <th>1262</th>\n",
              "      <td>0.750000</td>\n",
              "      <td>dangyang</td>\n",
              "    </tr>\n",
              "    <tr>\n",
              "      <th>320</th>\n",
              "      <td>0.714286</td>\n",
              "      <td>dandong</td>\n",
              "    </tr>\n",
              "    <tr>\n",
              "      <th>380</th>\n",
              "      <td>0.714286</td>\n",
              "      <td>kananga</td>\n",
              "    </tr>\n",
              "    <tr>\n",
              "      <th>12667</th>\n",
              "      <td>0.714286</td>\n",
              "      <td>daxiang</td>\n",
              "    </tr>\n",
              "    <tr>\n",
              "      <th>24615</th>\n",
              "      <td>0.714286</td>\n",
              "      <td>kantang</td>\n",
              "    </tr>\n",
              "  </tbody>\n",
              "</table>\n",
              "</div>"
            ],
            "text/plain": [
              "          score      city\n",
              "7965   0.857143   da nang\n",
              "851    0.857143   danyang\n",
              "1967   0.833333    datang\n",
              "1262   0.750000  dangyang\n",
              "320    0.714286   dandong\n",
              "380    0.714286   kananga\n",
              "12667  0.714286   daxiang\n",
              "24615  0.714286   kantang"
            ]
          },
          "execution_count": 18,
          "metadata": {},
          "output_type": "execute_result"
        }
      ],
      "source": [
        "danang_search_result = []\n",
        "for c in cities:\n",
        "    d = levenshtein_distance('danang', c)\n",
        "    score = 1.0 - d / max(len('danang'), len(c))\n",
        "    danang_search_result.append([score, c])\n",
        "danang_search_result = pd.DataFrame(danang_search_result)\n",
        "danang_search_result.columns = ['score', 'city']\n",
        "danang_search_result = danang_search_result.sort_values(by='score', ascending=False)\n",
        "danang_search_result[:8]"
      ]
    },
    {
      "cell_type": "markdown",
      "metadata": {
        "id": "aSmRSmbVH48l"
      },
      "source": [
        "### Kiểm tra thời gian chạy của thuật toán có đúng là $O(znm)$ hay không\n",
        "\n",
        "Với $z$ là số lượng chuỗi trong tập dữ liệu, $n$ là độ dài của chuỗi query, $m$ là độ dài trung bình của các chuỗi trong tập dữ liệu."
      ]
    },
    {
      "cell_type": "markdown",
      "metadata": {
        "id": "Wqr57edpZMOb"
      },
      "source": [
        "#### Khảo sát sự phụ thuộc của thời gian chạy vào $z$"
      ]
    },
    {
      "cell_type": "code",
      "execution_count": 19,
      "metadata": {
        "id": "TzvYPfanw4Ig"
      },
      "outputs": [],
      "source": [
        "def test_set_size(query, texts, runs=3):\n",
        "    set_sizes = []\n",
        "    query_times = []\n",
        "\n",
        "    for length in np.arange(0, len(texts), 1000, dtype=int):\n",
        "        set_sizes.append(length)\n",
        "        run_times = []\n",
        "        for _ in range(runs):\n",
        "            subset = np.random.choice(texts, length)\n",
        "            start = time.time()\n",
        "            levenshtein_find(query, subset)\n",
        "            end = time.time()\n",
        "            run_times.append(end - start)\n",
        "        \n",
        "        query_times.append(run_times)\n",
        "    return set_sizes, query_times"
      ]
    },
    {
      "cell_type": "code",
      "execution_count": 20,
      "metadata": {
        "colab": {
          "base_uri": "https://localhost:8080/"
        },
        "id": "rIJGSDyax_IT",
        "outputId": "d896959c-aff5-45bc-93fd-83af2a5ae29c"
      },
      "outputs": [
        {
          "name": "stdout",
          "output_type": "stream",
          "text": [
            "Wall time: 5min 18s\n"
          ]
        }
      ],
      "source": [
        "%%time\n",
        "np.random.seed(2)\n",
        "set_sizes, query_times = test_set_size('ho chi minh', cities)"
      ]
    },
    {
      "cell_type": "code",
      "execution_count": 21,
      "metadata": {
        "colab": {
          "base_uri": "https://localhost:8080/"
        },
        "id": "uKKmrDeSD_HL",
        "outputId": "4905300e-dce8-4ea0-bcbf-b14d59051609"
      },
      "outputs": [
        {
          "data": {
            "text/html": [
              "<div>\n",
              "<style scoped>\n",
              "    .dataframe tbody tr th:only-of-type {\n",
              "        vertical-align: middle;\n",
              "    }\n",
              "\n",
              "    .dataframe tbody tr th {\n",
              "        vertical-align: top;\n",
              "    }\n",
              "\n",
              "    .dataframe thead th {\n",
              "        text-align: right;\n",
              "    }\n",
              "</style>\n",
              "<table border=\"1\" class=\"dataframe\">\n",
              "  <thead>\n",
              "    <tr style=\"text-align: right;\">\n",
              "      <th></th>\n",
              "      <th>run_1</th>\n",
              "      <th>run_2</th>\n",
              "      <th>run_3</th>\n",
              "    </tr>\n",
              "    <tr>\n",
              "      <th>set_size</th>\n",
              "      <th></th>\n",
              "      <th></th>\n",
              "      <th></th>\n",
              "    </tr>\n",
              "  </thead>\n",
              "  <tbody>\n",
              "    <tr>\n",
              "      <th>0</th>\n",
              "      <td>0.000000</td>\n",
              "      <td>0.000000</td>\n",
              "      <td>0.000000</td>\n",
              "    </tr>\n",
              "    <tr>\n",
              "      <th>1000</th>\n",
              "      <td>0.141622</td>\n",
              "      <td>0.127844</td>\n",
              "      <td>0.120375</td>\n",
              "    </tr>\n",
              "    <tr>\n",
              "      <th>2000</th>\n",
              "      <td>0.243856</td>\n",
              "      <td>0.248337</td>\n",
              "      <td>0.252292</td>\n",
              "    </tr>\n",
              "    <tr>\n",
              "      <th>3000</th>\n",
              "      <td>0.380522</td>\n",
              "      <td>0.397522</td>\n",
              "      <td>0.408551</td>\n",
              "    </tr>\n",
              "    <tr>\n",
              "      <th>4000</th>\n",
              "      <td>0.518614</td>\n",
              "      <td>0.582462</td>\n",
              "      <td>0.520167</td>\n",
              "    </tr>\n",
              "    <tr>\n",
              "      <th>5000</th>\n",
              "      <td>0.657710</td>\n",
              "      <td>0.630080</td>\n",
              "      <td>0.622334</td>\n",
              "    </tr>\n",
              "    <tr>\n",
              "      <th>6000</th>\n",
              "      <td>0.747707</td>\n",
              "      <td>0.809854</td>\n",
              "      <td>0.770411</td>\n",
              "    </tr>\n",
              "    <tr>\n",
              "      <th>7000</th>\n",
              "      <td>0.903145</td>\n",
              "      <td>0.867600</td>\n",
              "      <td>0.921068</td>\n",
              "    </tr>\n",
              "    <tr>\n",
              "      <th>8000</th>\n",
              "      <td>1.055844</td>\n",
              "      <td>1.322233</td>\n",
              "      <td>1.082006</td>\n",
              "    </tr>\n",
              "    <tr>\n",
              "      <th>9000</th>\n",
              "      <td>1.220700</td>\n",
              "      <td>1.181086</td>\n",
              "      <td>1.184094</td>\n",
              "    </tr>\n",
              "    <tr>\n",
              "      <th>10000</th>\n",
              "      <td>1.246057</td>\n",
              "      <td>1.356781</td>\n",
              "      <td>1.291440</td>\n",
              "    </tr>\n",
              "    <tr>\n",
              "      <th>11000</th>\n",
              "      <td>1.429919</td>\n",
              "      <td>1.459893</td>\n",
              "      <td>1.411299</td>\n",
              "    </tr>\n",
              "    <tr>\n",
              "      <th>12000</th>\n",
              "      <td>1.558536</td>\n",
              "      <td>1.845665</td>\n",
              "      <td>1.620037</td>\n",
              "    </tr>\n",
              "    <tr>\n",
              "      <th>13000</th>\n",
              "      <td>1.696670</td>\n",
              "      <td>1.655527</td>\n",
              "      <td>1.626671</td>\n",
              "    </tr>\n",
              "    <tr>\n",
              "      <th>14000</th>\n",
              "      <td>2.434157</td>\n",
              "      <td>2.120209</td>\n",
              "      <td>1.835119</td>\n",
              "    </tr>\n",
              "    <tr>\n",
              "      <th>15000</th>\n",
              "      <td>1.917398</td>\n",
              "      <td>1.932307</td>\n",
              "      <td>1.906158</td>\n",
              "    </tr>\n",
              "    <tr>\n",
              "      <th>16000</th>\n",
              "      <td>2.072096</td>\n",
              "      <td>2.083957</td>\n",
              "      <td>2.090674</td>\n",
              "    </tr>\n",
              "    <tr>\n",
              "      <th>17000</th>\n",
              "      <td>2.179030</td>\n",
              "      <td>2.125758</td>\n",
              "      <td>2.191275</td>\n",
              "    </tr>\n",
              "    <tr>\n",
              "      <th>18000</th>\n",
              "      <td>2.567735</td>\n",
              "      <td>2.836427</td>\n",
              "      <td>2.894673</td>\n",
              "    </tr>\n",
              "    <tr>\n",
              "      <th>19000</th>\n",
              "      <td>2.642992</td>\n",
              "      <td>2.892699</td>\n",
              "      <td>2.674059</td>\n",
              "    </tr>\n",
              "    <tr>\n",
              "      <th>20000</th>\n",
              "      <td>2.690450</td>\n",
              "      <td>2.467609</td>\n",
              "      <td>2.864298</td>\n",
              "    </tr>\n",
              "    <tr>\n",
              "      <th>21000</th>\n",
              "      <td>3.202928</td>\n",
              "      <td>2.706435</td>\n",
              "      <td>2.695734</td>\n",
              "    </tr>\n",
              "    <tr>\n",
              "      <th>22000</th>\n",
              "      <td>2.838666</td>\n",
              "      <td>2.768083</td>\n",
              "      <td>2.785597</td>\n",
              "    </tr>\n",
              "    <tr>\n",
              "      <th>23000</th>\n",
              "      <td>3.088858</td>\n",
              "      <td>2.959403</td>\n",
              "      <td>2.913146</td>\n",
              "    </tr>\n",
              "    <tr>\n",
              "      <th>24000</th>\n",
              "      <td>3.049720</td>\n",
              "      <td>3.053249</td>\n",
              "      <td>3.010569</td>\n",
              "    </tr>\n",
              "    <tr>\n",
              "      <th>25000</th>\n",
              "      <td>3.032331</td>\n",
              "      <td>3.089382</td>\n",
              "      <td>3.191456</td>\n",
              "    </tr>\n",
              "    <tr>\n",
              "      <th>26000</th>\n",
              "      <td>3.333133</td>\n",
              "      <td>3.259551</td>\n",
              "      <td>3.235849</td>\n",
              "    </tr>\n",
              "    <tr>\n",
              "      <th>27000</th>\n",
              "      <td>3.557811</td>\n",
              "      <td>4.315990</td>\n",
              "      <td>3.635283</td>\n",
              "    </tr>\n",
              "    <tr>\n",
              "      <th>28000</th>\n",
              "      <td>3.824012</td>\n",
              "      <td>3.638879</td>\n",
              "      <td>3.578315</td>\n",
              "    </tr>\n",
              "    <tr>\n",
              "      <th>29000</th>\n",
              "      <td>3.775253</td>\n",
              "      <td>3.693073</td>\n",
              "      <td>3.763545</td>\n",
              "    </tr>\n",
              "    <tr>\n",
              "      <th>30000</th>\n",
              "      <td>3.797615</td>\n",
              "      <td>3.894158</td>\n",
              "      <td>3.977062</td>\n",
              "    </tr>\n",
              "    <tr>\n",
              "      <th>31000</th>\n",
              "      <td>4.128328</td>\n",
              "      <td>4.915314</td>\n",
              "      <td>4.140211</td>\n",
              "    </tr>\n",
              "    <tr>\n",
              "      <th>32000</th>\n",
              "      <td>4.141085</td>\n",
              "      <td>4.924803</td>\n",
              "      <td>4.099641</td>\n",
              "    </tr>\n",
              "    <tr>\n",
              "      <th>33000</th>\n",
              "      <td>4.343009</td>\n",
              "      <td>5.279249</td>\n",
              "      <td>4.551085</td>\n",
              "    </tr>\n",
              "    <tr>\n",
              "      <th>34000</th>\n",
              "      <td>4.589354</td>\n",
              "      <td>4.552935</td>\n",
              "      <td>4.693786</td>\n",
              "    </tr>\n",
              "    <tr>\n",
              "      <th>35000</th>\n",
              "      <td>4.807966</td>\n",
              "      <td>4.827332</td>\n",
              "      <td>5.245611</td>\n",
              "    </tr>\n",
              "    <tr>\n",
              "      <th>36000</th>\n",
              "      <td>4.932509</td>\n",
              "      <td>4.988056</td>\n",
              "      <td>4.904199</td>\n",
              "    </tr>\n",
              "    <tr>\n",
              "      <th>37000</th>\n",
              "      <td>5.524897</td>\n",
              "      <td>5.689970</td>\n",
              "      <td>5.518265</td>\n",
              "    </tr>\n",
              "    <tr>\n",
              "      <th>38000</th>\n",
              "      <td>5.540152</td>\n",
              "      <td>5.073972</td>\n",
              "      <td>5.062855</td>\n",
              "    </tr>\n",
              "    <tr>\n",
              "      <th>39000</th>\n",
              "      <td>5.213357</td>\n",
              "      <td>5.581627</td>\n",
              "      <td>6.048024</td>\n",
              "    </tr>\n",
              "  </tbody>\n",
              "</table>\n",
              "</div>"
            ],
            "text/plain": [
              "             run_1     run_2     run_3\n",
              "set_size                              \n",
              "0         0.000000  0.000000  0.000000\n",
              "1000      0.141622  0.127844  0.120375\n",
              "2000      0.243856  0.248337  0.252292\n",
              "3000      0.380522  0.397522  0.408551\n",
              "4000      0.518614  0.582462  0.520167\n",
              "5000      0.657710  0.630080  0.622334\n",
              "6000      0.747707  0.809854  0.770411\n",
              "7000      0.903145  0.867600  0.921068\n",
              "8000      1.055844  1.322233  1.082006\n",
              "9000      1.220700  1.181086  1.184094\n",
              "10000     1.246057  1.356781  1.291440\n",
              "11000     1.429919  1.459893  1.411299\n",
              "12000     1.558536  1.845665  1.620037\n",
              "13000     1.696670  1.655527  1.626671\n",
              "14000     2.434157  2.120209  1.835119\n",
              "15000     1.917398  1.932307  1.906158\n",
              "16000     2.072096  2.083957  2.090674\n",
              "17000     2.179030  2.125758  2.191275\n",
              "18000     2.567735  2.836427  2.894673\n",
              "19000     2.642992  2.892699  2.674059\n",
              "20000     2.690450  2.467609  2.864298\n",
              "21000     3.202928  2.706435  2.695734\n",
              "22000     2.838666  2.768083  2.785597\n",
              "23000     3.088858  2.959403  2.913146\n",
              "24000     3.049720  3.053249  3.010569\n",
              "25000     3.032331  3.089382  3.191456\n",
              "26000     3.333133  3.259551  3.235849\n",
              "27000     3.557811  4.315990  3.635283\n",
              "28000     3.824012  3.638879  3.578315\n",
              "29000     3.775253  3.693073  3.763545\n",
              "30000     3.797615  3.894158  3.977062\n",
              "31000     4.128328  4.915314  4.140211\n",
              "32000     4.141085  4.924803  4.099641\n",
              "33000     4.343009  5.279249  4.551085\n",
              "34000     4.589354  4.552935  4.693786\n",
              "35000     4.807966  4.827332  5.245611\n",
              "36000     4.932509  4.988056  4.904199\n",
              "37000     5.524897  5.689970  5.518265\n",
              "38000     5.540152  5.073972  5.062855\n",
              "39000     5.213357  5.581627  6.048024"
            ]
          },
          "execution_count": 21,
          "metadata": {},
          "output_type": "execute_result"
        }
      ],
      "source": [
        "columns = [f'run_{i+1}' for i in range(len(query_times[0]))]\n",
        "times_by_set_sizes_df = pd.DataFrame(\n",
        "    data=query_times,\n",
        "    columns=columns,\n",
        "    index=set_sizes\n",
        ")\n",
        "times_by_set_sizes_df.index.name = 'set_size'\n",
        "times_by_set_sizes_df"
      ]
    },
    {
      "cell_type": "code",
      "execution_count": 22,
      "metadata": {
        "colab": {
          "base_uri": "https://localhost:8080/"
        },
        "id": "ZO8aeEW240z6",
        "outputId": "c13b4fd6-97ea-432e-e685-94fa2d664403"
      },
      "outputs": [
        {
          "data": {
            "image/png": "[encoded data removed]",
            "text/plain": [
              "<Figure size 432x288 with 1 Axes>"
            ]
          },
          "metadata": {
            "needs_background": "light"
          },
          "output_type": "display_data"
        }
      ],
      "source": [
        "plt.plot(times_by_set_sizes_df.index, times_by_set_sizes_df.mean(axis=1), color='blue')\n",
        "plt.fill_between(\n",
        "    times_by_set_sizes_df.index,\n",
        "    times_by_set_sizes_df.min(axis=1),\n",
        "    times_by_set_sizes_df.max(axis=1),\n",
        "    alpha=0.25,\n",
        "    color='blue'\n",
        ")\n",
        "plt.xlabel('Set sizes')\n",
        "plt.ylabel('Time (second)')\n",
        "plt.show()"
      ]
    },
    {
      "cell_type": "markdown",
      "metadata": {
        "id": "oUW1rRGiZDvF"
      },
      "source": [
        "#### Khảo sát sự phụ thuộc của thời gian chạy vào $n$"
      ]
    },
    {
      "cell_type": "code",
      "execution_count": 23,
      "metadata": {
        "id": "MTzR1XR3ivmj"
      },
      "outputs": [],
      "source": [
        "def random_ascii_text(length):\n",
        "    result = [random.randrange(26, 52) for _ in range(length)]\n",
        "    result = ''.join([chr(c) for c in result])\n",
        "    return result"
      ]
    },
    {
      "cell_type": "code",
      "execution_count": 24,
      "metadata": {
        "id": "e8Sgru_-Sz8T"
      },
      "outputs": [],
      "source": [
        "def test_query_length(texts, runs=3):\n",
        "    query_lengths = []\n",
        "    query_times = []\n",
        "\n",
        "    for length in np.arange(1, 11) * 5:\n",
        "        query_lengths.append(length)\n",
        "\n",
        "        run_times = []\n",
        "        for _ in range(runs):\n",
        "            query = random_ascii_text(length)\n",
        "\n",
        "            start = time.time()\n",
        "            levenshtein_find(query, cities)\n",
        "            end = time.time()\n",
        "            run_times.append(end - start)\n",
        "    \n",
        "        query_times.append(run_times)\n",
        "\n",
        "    return query_lengths, query_times"
      ]
    },
    {
      "cell_type": "code",
      "execution_count": 25,
      "metadata": {
        "colab": {
          "base_uri": "https://localhost:8080/"
        },
        "id": "AokU-aytzhUd",
        "outputId": "f5fb0317-1238-47ce-c080-c5105a398b8f"
      },
      "outputs": [
        {
          "name": "stdout",
          "output_type": "stream",
          "text": [
            "Wall time: 6min 10s\n"
          ]
        }
      ],
      "source": [
        "%%time\n",
        "query_lengths, query_times = test_query_length(cities, runs=3)"
      ]
    },
    {
      "cell_type": "code",
      "execution_count": 26,
      "metadata": {
        "colab": {
          "base_uri": "https://localhost:8080/",
          "height": 394
        },
        "id": "isCgyYlwJD5P",
        "outputId": "4408393c-8b2d-47f3-f93f-e3bbce22c1a8"
      },
      "outputs": [
        {
          "data": {
            "text/html": [
              "<div>\n",
              "<style scoped>\n",
              "    .dataframe tbody tr th:only-of-type {\n",
              "        vertical-align: middle;\n",
              "    }\n",
              "\n",
              "    .dataframe tbody tr th {\n",
              "        vertical-align: top;\n",
              "    }\n",
              "\n",
              "    .dataframe thead th {\n",
              "        text-align: right;\n",
              "    }\n",
              "</style>\n",
              "<table border=\"1\" class=\"dataframe\">\n",
              "  <thead>\n",
              "    <tr style=\"text-align: right;\">\n",
              "      <th></th>\n",
              "      <th>run_1</th>\n",
              "      <th>run_2</th>\n",
              "      <th>run_3</th>\n",
              "    </tr>\n",
              "    <tr>\n",
              "      <th>query_length</th>\n",
              "      <th></th>\n",
              "      <th></th>\n",
              "      <th></th>\n",
              "    </tr>\n",
              "  </thead>\n",
              "  <tbody>\n",
              "    <tr>\n",
              "      <th>5</th>\n",
              "      <td>2.424863</td>\n",
              "      <td>2.558958</td>\n",
              "      <td>2.377103</td>\n",
              "    </tr>\n",
              "    <tr>\n",
              "      <th>10</th>\n",
              "      <td>4.489279</td>\n",
              "      <td>4.571560</td>\n",
              "      <td>4.609208</td>\n",
              "    </tr>\n",
              "    <tr>\n",
              "      <th>15</th>\n",
              "      <td>6.717135</td>\n",
              "      <td>6.587432</td>\n",
              "      <td>6.909945</td>\n",
              "    </tr>\n",
              "    <tr>\n",
              "      <th>20</th>\n",
              "      <td>8.843894</td>\n",
              "      <td>8.725994</td>\n",
              "      <td>8.857941</td>\n",
              "    </tr>\n",
              "    <tr>\n",
              "      <th>25</th>\n",
              "      <td>11.423391</td>\n",
              "      <td>11.426773</td>\n",
              "      <td>11.321968</td>\n",
              "    </tr>\n",
              "    <tr>\n",
              "      <th>30</th>\n",
              "      <td>13.547571</td>\n",
              "      <td>13.248183</td>\n",
              "      <td>13.871455</td>\n",
              "    </tr>\n",
              "    <tr>\n",
              "      <th>35</th>\n",
              "      <td>15.949310</td>\n",
              "      <td>15.779856</td>\n",
              "      <td>16.777119</td>\n",
              "    </tr>\n",
              "    <tr>\n",
              "      <th>40</th>\n",
              "      <td>18.215074</td>\n",
              "      <td>18.532459</td>\n",
              "      <td>17.281274</td>\n",
              "    </tr>\n",
              "    <tr>\n",
              "      <th>45</th>\n",
              "      <td>19.582400</td>\n",
              "      <td>19.945338</td>\n",
              "      <td>20.034613</td>\n",
              "    </tr>\n",
              "    <tr>\n",
              "      <th>50</th>\n",
              "      <td>22.505006</td>\n",
              "      <td>22.392072</td>\n",
              "      <td>21.320093</td>\n",
              "    </tr>\n",
              "  </tbody>\n",
              "</table>\n",
              "</div>"
            ],
            "text/plain": [
              "                  run_1      run_2      run_3\n",
              "query_length                                 \n",
              "5              2.424863   2.558958   2.377103\n",
              "10             4.489279   4.571560   4.609208\n",
              "15             6.717135   6.587432   6.909945\n",
              "20             8.843894   8.725994   8.857941\n",
              "25            11.423391  11.426773  11.321968\n",
              "30            13.547571  13.248183  13.871455\n",
              "35            15.949310  15.779856  16.777119\n",
              "40            18.215074  18.532459  17.281274\n",
              "45            19.582400  19.945338  20.034613\n",
              "50            22.505006  22.392072  21.320093"
            ]
          },
          "execution_count": 26,
          "metadata": {},
          "output_type": "execute_result"
        }
      ],
      "source": [
        "columns = [f'run_{i+1}' for i in range(len(query_times[0]))]\n",
        "times_by_query_lengths_df = pd.DataFrame(\n",
        "    data=query_times,\n",
        "    columns=columns,\n",
        "    index=query_lengths\n",
        ")\n",
        "times_by_query_lengths_df.index.name = 'query_length'\n",
        "times_by_query_lengths_df"
      ]
    },
    {
      "cell_type": "code",
      "execution_count": 27,
      "metadata": {
        "colab": {
          "base_uri": "https://localhost:8080/",
          "height": 279
        },
        "id": "c4EQF56AV4x-",
        "outputId": "343cfcdc-8f50-4a48-f944-559f0d47a113"
      },
      "outputs": [
        {
          "data": {
            "image/png": "[encoded data removed]",
            "text/plain": [
              "<Figure size 432x288 with 1 Axes>"
            ]
          },
          "metadata": {
            "needs_background": "light"
          },
          "output_type": "display_data"
        }
      ],
      "source": [
        "plt.plot(times_by_query_lengths_df.index, times_by_query_lengths_df.mean(axis=1), color='blue')\n",
        "plt.fill_between(\n",
        "    times_by_query_lengths_df.index,\n",
        "    times_by_query_lengths_df.min(axis=1),\n",
        "    times_by_query_lengths_df.max(axis=1),\n",
        "    alpha=0.25,\n",
        "    color='blue'\n",
        ")\n",
        "plt.xlabel('Query length')\n",
        "plt.ylabel('Time (second)')\n",
        "plt.show()"
      ]
    },
    {
      "cell_type": "markdown",
      "metadata": {
        "id": "4xjY7vC_lsf-"
      },
      "source": [
        "#### Khảo sát sự phụ thuộc của thời gian chạy vào $m$"
      ]
    },
    {
      "cell_type": "code",
      "execution_count": 28,
      "metadata": {
        "id": "x8HAQxcdiHQP"
      },
      "outputs": [],
      "source": [
        "def test_m(query, size, runs=3):\n",
        "    ms = []\n",
        "    results = []\n",
        "    for m in np.arange(1, 11) * 5:\n",
        "        ms.append(m)\n",
        "        run_times = []\n",
        "        for _ in range(runs):\n",
        "            texts = [random_ascii_text(m) for _ in range(size)]\n",
        "            start = time.time()\n",
        "            levenshtein_find(query, texts)\n",
        "            end = time.time()\n",
        "            run_times.append(end - start)\n",
        "        results.append(run_times)\n",
        "    return ms, results"
      ]
    },
    {
      "cell_type": "code",
      "execution_count": 29,
      "metadata": {
        "colab": {
          "base_uri": "https://localhost:8080/"
        },
        "id": "iVkHR_CDj94E",
        "outputId": "f7341a4f-b139-4333-eba6-363409527f49"
      },
      "outputs": [
        {
          "name": "stdout",
          "output_type": "stream",
          "text": [
            "Wall time: 3.34 s\n"
          ]
        }
      ],
      "source": [
        "%%time\n",
        "ms, results = test_m('ha noi', 500)"
      ]
    },
    {
      "cell_type": "code",
      "execution_count": 30,
      "metadata": {
        "colab": {
          "base_uri": "https://localhost:8080/"
        },
        "id": "ZDqF9epbkSBL",
        "outputId": "f806a254-d0d5-46f7-cb73-fc065ca1f501"
      },
      "outputs": [
        {
          "data": {
            "text/html": [
              "<div>\n",
              "<style scoped>\n",
              "    .dataframe tbody tr th:only-of-type {\n",
              "        vertical-align: middle;\n",
              "    }\n",
              "\n",
              "    .dataframe tbody tr th {\n",
              "        vertical-align: top;\n",
              "    }\n",
              "\n",
              "    .dataframe thead th {\n",
              "        text-align: right;\n",
              "    }\n",
              "</style>\n",
              "<table border=\"1\" class=\"dataframe\">\n",
              "  <thead>\n",
              "    <tr style=\"text-align: right;\">\n",
              "      <th></th>\n",
              "      <th>run_1</th>\n",
              "      <th>run_2</th>\n",
              "      <th>run_3</th>\n",
              "    </tr>\n",
              "    <tr>\n",
              "      <th>mean_text_length</th>\n",
              "      <th></th>\n",
              "      <th></th>\n",
              "      <th></th>\n",
              "    </tr>\n",
              "  </thead>\n",
              "  <tbody>\n",
              "    <tr>\n",
              "      <th>5</th>\n",
              "      <td>0.019947</td>\n",
              "      <td>0.020941</td>\n",
              "      <td>0.019556</td>\n",
              "    </tr>\n",
              "    <tr>\n",
              "      <th>10</th>\n",
              "      <td>0.038951</td>\n",
              "      <td>0.037241</td>\n",
              "      <td>0.036562</td>\n",
              "    </tr>\n",
              "    <tr>\n",
              "      <th>15</th>\n",
              "      <td>0.055092</td>\n",
              "      <td>0.065800</td>\n",
              "      <td>0.064826</td>\n",
              "    </tr>\n",
              "    <tr>\n",
              "      <th>20</th>\n",
              "      <td>0.074834</td>\n",
              "      <td>0.071434</td>\n",
              "      <td>0.073771</td>\n",
              "    </tr>\n",
              "    <tr>\n",
              "      <th>25</th>\n",
              "      <td>0.088412</td>\n",
              "      <td>0.088760</td>\n",
              "      <td>0.090338</td>\n",
              "    </tr>\n",
              "    <tr>\n",
              "      <th>30</th>\n",
              "      <td>0.109710</td>\n",
              "      <td>0.106222</td>\n",
              "      <td>0.107724</td>\n",
              "    </tr>\n",
              "    <tr>\n",
              "      <th>35</th>\n",
              "      <td>0.123093</td>\n",
              "      <td>0.121863</td>\n",
              "      <td>0.122672</td>\n",
              "    </tr>\n",
              "    <tr>\n",
              "      <th>40</th>\n",
              "      <td>0.140864</td>\n",
              "      <td>0.187774</td>\n",
              "      <td>0.148314</td>\n",
              "    </tr>\n",
              "    <tr>\n",
              "      <th>45</th>\n",
              "      <td>0.161373</td>\n",
              "      <td>0.172923</td>\n",
              "      <td>0.167996</td>\n",
              "    </tr>\n",
              "    <tr>\n",
              "      <th>50</th>\n",
              "      <td>0.176016</td>\n",
              "      <td>0.204518</td>\n",
              "      <td>0.185453</td>\n",
              "    </tr>\n",
              "  </tbody>\n",
              "</table>\n",
              "</div>"
            ],
            "text/plain": [
              "                     run_1     run_2     run_3\n",
              "mean_text_length                              \n",
              "5                 0.019947  0.020941  0.019556\n",
              "10                0.038951  0.037241  0.036562\n",
              "15                0.055092  0.065800  0.064826\n",
              "20                0.074834  0.071434  0.073771\n",
              "25                0.088412  0.088760  0.090338\n",
              "30                0.109710  0.106222  0.107724\n",
              "35                0.123093  0.121863  0.122672\n",
              "40                0.140864  0.187774  0.148314\n",
              "45                0.161373  0.172923  0.167996\n",
              "50                0.176016  0.204518  0.185453"
            ]
          },
          "execution_count": 30,
          "metadata": {},
          "output_type": "execute_result"
        }
      ],
      "source": [
        "columns = [f'run_{i+1}' for i in range(len(results[0]))]\n",
        "times_by_mean_text_lengths_df = pd.DataFrame(\n",
        "    data=results,\n",
        "    columns=columns,\n",
        "    index=ms\n",
        ")\n",
        "times_by_mean_text_lengths_df.index.name = 'mean_text_length'\n",
        "times_by_mean_text_lengths_df"
      ]
    },
    {
      "cell_type": "code",
      "execution_count": 31,
      "metadata": {
        "colab": {
          "base_uri": "https://localhost:8080/"
        },
        "id": "TeGA1KUPkkPJ",
        "outputId": "be638d96-3666-4771-de60-df396a78d820"
      },
      "outputs": [
        {
          "data": {
            "image/png": "[encoded data removed]",
            "text/plain": [
              "<Figure size 432x288 with 1 Axes>"
            ]
          },
          "metadata": {
            "needs_background": "light"
          },
          "output_type": "display_data"
        }
      ],
      "source": [
        "plt.plot(times_by_mean_text_lengths_df.index, times_by_mean_text_lengths_df.mean(axis=1), color='blue')\n",
        "plt.fill_between(\n",
        "    times_by_mean_text_lengths_df.index,\n",
        "    times_by_mean_text_lengths_df.min(axis=1),\n",
        "    times_by_mean_text_lengths_df.max(axis=1),\n",
        "    alpha=0.25,\n",
        "    color='blue'\n",
        ")\n",
        "plt.xlabel('Mean text length')\n",
        "plt.ylabel('Time (second)')\n",
        "plt.show()"
      ]
    },
    {
      "cell_type": "markdown",
      "metadata": {
        "id": "LWQRhDV3LFmd"
      },
      "source": [
        "### Levenshtein distance có sử dụng vectorization"
      ]
    },
    {
      "cell_type": "code",
      "execution_count": 32,
      "metadata": {
        "id": "1jTycQIE6TlI"
      },
      "outputs": [],
      "source": [
        "def texts_to_dict(texts):\n",
        "    len_to_texts = {}\n",
        "    for word in texts:\n",
        "        len_to_texts.setdefault(len(word), []).append(word)\n",
        "\n",
        "    for n, words in len_to_texts.items():\n",
        "        mat = [[ord(c) for c in word.lower()] for word in words]\n",
        "        mat = np.asarray(mat).T\n",
        "        len_to_texts[n] = mat\n",
        "\n",
        "    return len_to_texts"
      ]
    },
    {
      "cell_type": "code",
      "execution_count": 33,
      "metadata": {
        "colab": {
          "base_uri": "https://localhost:8080/"
        },
        "id": "zuKnucE0QL9B",
        "outputId": "8736a9a8-df72-4043-93fa-e4fbd85c2a72"
      },
      "outputs": [
        {
          "data": {
            "text/plain": [
              "array([[ 99, 103,  99, ..., 108, 115,  99],\n",
              "       [105, 101,  97, ...,  97,  97,  97],\n",
              "       [117, 110,  99, ...,  32, 105, 112],\n",
              "       ...,\n",
              "       [101, 114, 114, ..., 105, 122, 110],\n",
              "       [100, 101, 105, ..., 101, 111, 122],\n",
              "       [111, 122, 109, ..., 108, 110,  97]])"
            ]
          },
          "execution_count": 33,
          "metadata": {},
          "output_type": "execute_result"
        }
      ],
      "source": [
        "len_to_texts = texts_to_dict(cities)\n",
        "len_to_texts[23]"
      ]
    },
    {
      "cell_type": "code",
      "execution_count": 34,
      "metadata": {
        "id": "YtlMLiu8LIXI"
      },
      "outputs": [],
      "source": [
        "def levenshtein_vec_find(query_text, len_to_texts):\n",
        "    best_score = -np.inf\n",
        "    best_result = None\n",
        "\n",
        "    # Turn the query text into np.array\n",
        "    text = np.asarray([ord(c) for c in query_text])\n",
        "\n",
        "    for length, mat in len_to_texts.items():\n",
        "        distances = levenshtein_distance_vec(text, mat)\n",
        "        \n",
        "        best_idx = np.argmin(distances) \n",
        "        d = distances[best_idx]\n",
        "        score = 1.0 - d / max(len(text), length)\n",
        "\n",
        "        if score > best_score:\n",
        "            best_score = score\n",
        "            best_result = (length, best_idx)\n",
        "\n",
        "    # Convert best match from integers to string\n",
        "    best_result = len_to_texts[best_result[0]][:, best_result[1]]\n",
        "    best_result = ''.join([chr(c) for c in best_result])\n",
        "\n",
        "    return (best_score, best_result)"
      ]
    },
    {
      "cell_type": "code",
      "execution_count": 35,
      "metadata": {
        "colab": {
          "base_uri": "https://localhost:8080/"
        },
        "id": "UFMRQdAP4AAZ",
        "outputId": "911bf8d0-90a9-4616-ffa8-d8374b7642bc"
      },
      "outputs": [
        {
          "name": "stdout",
          "output_type": "stream",
          "text": [
            "Wall time: 160 ms\n"
          ]
        },
        {
          "data": {
            "text/plain": [
              "(0.5625, 'ho chi minh city')"
            ]
          },
          "execution_count": 35,
          "metadata": {},
          "output_type": "execute_result"
        }
      ],
      "source": [
        "%%time\n",
        "levenshtein_vec_find('ho chiminj', len_to_texts)"
      ]
    },
    {
      "cell_type": "markdown",
      "metadata": {
        "id": "4-WMMUMhf39h"
      },
      "source": [
        "#### Search bar đơn giản"
      ]
    },
    {
      "cell_type": "code",
      "execution_count": 36,
      "metadata": {
        "id": "5jXny8tGG9wd"
      },
      "outputs": [],
      "source": [
        "from ipywidgets import interact, interactive, fixed, interact_manual\n",
        "import ipywidgets as widgets"
      ]
    },
    {
      "cell_type": "code",
      "execution_count": 37,
      "metadata": {
        "colab": {
          "base_uri": "https://localhost:8080/",
          "referenced_widgets": [
            "fe0ce2ed67e747bd93e1c549c6090ac1",
            "e4845c0e932a445087b33b8b713a1f43",
            "fc2b88f711fb4a5e8639ba4ab86b28ca",
            "da9321316a154d068954a95eb7f049e8",
            "b137937a56794d388d3acf9b7998a9a8",
            "67bd2d6a5bee438194d71e1151eba2b6"
          ]
        },
        "id": "MzhOALtlHMGB",
        "outputId": "a8e97e78-c132-4f14-fb97-8ca6dc9e619b"
      },
      "outputs": [
        {
          "data": {
            "application/vnd.jupyter.widget-view+json": {
              "model_id": "8fe886492e2d4379ac047f409510a204",
              "version_major": 2,
              "version_minor": 0
            },
            "text/plain": [
              "interactive(children=(Text(value='', description='query_text'), Output()), _dom_classes=('widget-interact',))"
            ]
          },
          "metadata": {},
          "output_type": "display_data"
        }
      ],
      "source": [
        "interact(levenshtein_vec_find, query_text='', len_to_texts=fixed(len_to_texts));"
      ]
    },
    {
      "cell_type": "markdown",
      "metadata": {
        "id": "CH8ktr85DnZ4"
      },
      "source": [
        "# Xuất số liệu ra file"
      ]
    },
    {
      "cell_type": "code",
      "execution_count": 38,
      "metadata": {
        "id": "A3NmmQnLDsKc"
      },
      "outputs": [],
      "source": [
        "test_queries.to_csv('Data/test_queries.csv')\n",
        "danang_search_result.to_csv('Data/danang_search_result.csv')\n",
        "times_by_set_sizes_df.to_csv('Data/times_by_set_sizes.csv')\n",
        "times_by_query_lengths_df.to_csv('Data/times_by_query_lengths.csv')\n",
        "times_by_mean_text_lengths_df.to_csv('Data/times_by_mean_text_lengths.csv')"
      ]
    }
  ],
  "metadata": {
    "colab": {
      "collapsed_sections": [],
      "name": "Fuzzy Search.ipynb",
      "provenance": []
    },
    "interpreter": {
      "hash": "b9796394426605396460bc02dd771ab932e3f56bb8fd172a936767b828ee83b2"
    },
    "kernelspec": {
      "display_name": "Python 3.8.10 64-bit (windows store)",
      "language": "python",
      "name": "python3"
    },
    "language_info": {
      "codemirror_mode": {
        "name": "ipython",
        "version": 3
      },
      "file_extension": ".py",
      "mimetype": "text/x-python",
      "name": "python",
      "nbconvert_exporter": "python",
      "pygments_lexer": "ipython3",
      "version": "3.8.10"
    },
    "widgets": {
      "application/vnd.jupyter.widget-state+json": {
        "da9321316a154d068954a95eb7f049e8": {
          "model_module": "@jupyter-widgets/base",
          "model_module_version": "1.2.0",
          "model_name": "LayoutModel",
          "state": {
            "_model_module": "@jupyter-widgets/base",
            "_model_module_version": "1.2.0",
            "_model_name": "LayoutModel",
            "_view_count": null,
            "_view_module": "@jupyter-widgets/base",
            "_view_module_version": "1.2.0",
            "_view_name": "LayoutView",
            "align_content": null,
            "align_items": null,
            "align_self": null,
            "border": null,
            "bottom": null,
            "display": null,
            "flex": null,
            "flex_flow": null,
            "grid_area": null,
            "grid_auto_columns": null,
            "grid_auto_flow": null,
            "grid_auto_rows": null,
            "grid_column": null,
            "grid_gap": null,
            "grid_row": null,
            "grid_template_areas": null,
            "grid_template_columns": null,
            "grid_template_rows": null,
            "height": null,
            "justify_content": null,
            "justify_items": null,
            "left": null,
            "margin": null,
            "max_height": null,
            "max_width": null,
            "min_height": null,
            "min_width": null,
            "object_fit": null,
            "object_position": null,
            "order": null,
            "overflow": null,
            "overflow_x": null,
            "overflow_y": null,
            "padding": null,
            "right": null,
            "top": null,
            "visibility": null,
            "width": null
          }
        },
        "e4845c0e932a445087b33b8b713a1f43": {
          "model_module": "@jupyter-widgets/controls",
          "model_module_version": "1.5.0",
          "model_name": "TextModel",
          "state": {
            "_dom_classes": [],
            "_model_module": "@jupyter-widgets/controls",
            "_model_module_version": "1.5.0",
            "_model_name": "TextModel",
            "_view_count": null,
            "_view_module": "@jupyter-widgets/controls",
            "_view_module_version": "1.5.0",
            "_view_name": "TextView",
            "continuous_update": true,
            "description": "query_text",
            "description_tooltip": null,
            "disabled": false,
            "layout": "IPY_MODEL_b137937a56794d388d3acf9b7998a9a8",
            "placeholder": "​",
            "style": "IPY_MODEL_67bd2d6a5bee438194d71e1151eba2b6",
            "value": ""
          }
        },
        "fc2b88f711fb4a5e8639ba4ab86b28ca": {
          "model_module": "@jupyter-widgets/output",
          "model_module_version": "1.0.0",
          "model_name": "OutputModel",
          "state": {
            "_dom_classes": [],
            "_model_module": "@jupyter-widgets/output",
            "_model_module_version": "1.0.0",
            "_model_name": "OutputModel",
            "_view_count": null,
            "_view_module": "@jupyter-widgets/output",
            "_view_module_version": "1.0.0",
            "_view_name": "OutputView",
            "layout": "IPY_MODEL_8c6ff6536d9543d9a2f5d2a60efdf01b",
            "msg_id": "",
            "outputs": [
              {
                "data": {
                  "text/plain": "(0.0, 'tokyo')"
                },
                "metadata": {},
                "output_type": "display_data"
              }
            ]
          }
        },
        "fe0ce2ed67e747bd93e1c549c6090ac1": {
          "model_module": "@jupyter-widgets/controls",
          "model_module_version": "1.5.0",
          "model_name": "VBoxModel",
          "state": {
            "_dom_classes": [
              "widget-interact"
            ],
            "_model_module": "@jupyter-widgets/controls",
            "_model_module_version": "1.5.0",
            "_model_name": "VBoxModel",
            "_view_count": null,
            "_view_module": "@jupyter-widgets/controls",
            "_view_module_version": "1.5.0",
            "_view_name": "VBoxView",
            "box_style": "",
            "children": [
              "IPY_MODEL_e4845c0e932a445087b33b8b713a1f43",
              "IPY_MODEL_fc2b88f711fb4a5e8639ba4ab86b28ca"
            ],
            "layout": "IPY_MODEL_da9321316a154d068954a95eb7f049e8"
          }
        }
      }
    }
  },
  "nbformat": 4,
  "nbformat_minor": 0
}
